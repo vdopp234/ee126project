{
 "cells": [
  {
   "cell_type": "code",
   "execution_count": null,
   "metadata": {},
   "outputs": [],
   "source": [
    "from sound import *\n",
    "from Receiver import *\n",
    "from checksum import Packet as Pack\n",
    "from Transmitter import *\n",
    "from HuffmanCode import *\n",
    "from bitarray import bitarray\n",
    "import sounddevice as sd\n",
    "%pylab\n",
    "%matplotlib inline"
   ]
  },
  {
   "cell_type": "code",
   "execution_count": null,
   "metadata": {},
   "outputs": [],
   "source": [
    "sample = 500\n",
    "a = HuffmanCode()\n",
    "encode=a.compress(\"test.txt\")\n",
    "\n",
    "b = Transmitter(encode)\n",
    "chunks=b.chunks\n",
    "packet = b.encode(1)\n",
    "final_packet=[]\n",
    "for p in packet:\n",
    "    check=Pack(p)\n",
    "    # print(check.checksum)\n",
    "    # print(check.total_data)\n",
    "\n",
    "    final_packet.append(check.get_final_packet())\n",
    "\n",
    "#\n",
    "bits = \"\"\n",
    "for p in final_packet:\n",
    "    bits += p\n",
    "\n",
    "print(\"sending\")\n",
    "sig = genSignal(bitarray(bits), baud=200, signal_cf=5000, clock_cf=2000, fdev=600, fs=48000, packet_size=128+16+32)\n",
    "print(\"done\")"
   ]
  },
  {
   "cell_type": "code",
   "execution_count": null,
   "metadata": {},
   "outputs": [],
   "source": [
    "plt.plot(r_[:sample]/48000, sig[:sample])"
   ]
  },
  {
   "cell_type": "code",
   "execution_count": null,
   "metadata": {},
   "outputs": [],
   "source": [
    "from Receiver import *\n",
    "from Transmitter import *\n",
    "from HuffmanCode import *\n",
    "from checksum import *\n",
    "from sound import transmit, receive\n",
    "from bitarray import bitarray\n",
    "from checksum import Packet as Pack\n",
    "a = HuffmanCode()\n",
    "\n",
    "\n",
    "c = Receiver()\n",
    "print(\"started decoding\")\n",
    "packets = receiveFromSignal(sig, packet_size=8+16+8, baud=200, signal_cf=5000, clock_cf=2000, fdev=600, fs=48000, duration=30, taps=50, width = 100)\n",
    "\n",
    "count=0\n",
    "acc = 0\n",
    "print (\"ended decoding\")\n",
    "while not c.isDone() and count<len(packets):\n",
    "    received=packets[count]\n",
    "    s = \"\"\n",
    "    for b in received:\n",
    "        s+=str(b)\n",
    "    if len(s) != 8+16+8:\n",
    "        count+=1\n",
    "        continue\n",
    "    check=Pack(s, sent=True)\n",
    "    if check.check_checksum():\n",
    "        acc += 1\n",
    "        temp=check.get_received_packet()\n",
    "        temp=bytearray(temp, 'utf8')\n",
    "        print(\"received packet\", temp)\n",
    "        c.receive_packet(temp)\n",
    "    else:\n",
    "        print(\"rejected packet\")\n",
    "    count+=1\n",
    "de=c.decoded_chunks\n",
    "\n",
    "final = c.blocks_write()\n",
    "print(final)\n",
    "a.decompress(final,  \"out.txt\")"
   ]
  },
  {
   "cell_type": "code",
   "execution_count": null,
   "metadata": {
    "collapsed": true
   },
   "outputs": [],
   "source": [
    "print(\"fam\")"
   ]
  },
  {
   "cell_type": "code",
   "execution_count": null,
   "metadata": {
    "collapsed": true
   },
   "outputs": [],
   "source": [
    "print(encode)"
   ]
  },
  {
   "cell_type": "code",
   "execution_count": null,
   "metadata": {
    "collapsed": true
   },
   "outputs": [],
   "source": [
    "print(len(encode), len(final))\n",
    "print(c.found)"
   ]
  },
  {
   "cell_type": "code",
   "execution_count": null,
   "metadata": {
    "collapsed": true
   },
   "outputs": [],
   "source": [
    "for i, j, k in zip(encode[:752], final[:752], range(752)):\n",
    "    print(i==j, k)"
   ]
  },
  {
   "cell_type": "code",
   "execution_count": null,
   "metadata": {
    "collapsed": true
   },
   "outputs": [],
   "source": []
  }
 ],
 "metadata": {
  "kernelspec": {
   "display_name": "Python 3",
   "language": "python",
   "name": "python3"
  },
  "language_info": {
   "codemirror_mode": {
    "name": "ipython",
    "version": 3
   },
   "file_extension": ".py",
   "mimetype": "text/x-python",
   "name": "python",
   "nbconvert_exporter": "python",
   "pygments_lexer": "ipython3",
   "version": "3.6.3"
  }
 },
 "nbformat": 4,
 "nbformat_minor": 2
}
